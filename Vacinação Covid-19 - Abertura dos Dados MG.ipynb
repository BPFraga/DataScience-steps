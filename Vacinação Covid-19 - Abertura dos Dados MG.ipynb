{
 "cells": [
  {
   "cell_type": "markdown",
   "id": "a1428c42",
   "metadata": {},
   "source": [
    "# Limpeza de Dados de Vacinação da Covid-19"
   ]
  },
  {
   "cell_type": "markdown",
   "id": "63dc93fe",
   "metadata": {},
   "source": [
    "Primeiro realizamos as importações."
   ]
  },
  {
   "cell_type": "code",
   "execution_count": 1,
   "id": "05964dfd",
   "metadata": {},
   "outputs": [],
   "source": [
    "import pandas as pd"
   ]
  },
  {
   "cell_type": "markdown",
   "id": "956625f4",
   "metadata": {},
   "source": [
    "Em segundo lugar, será passado o endereço local, do arquivo, mas para será usada uma máscara e essa informação está dentro de um arquivo txt do nosso PC. \n",
    "Neste caso, o programa abre o arquivo, pega o conteúdo que é um endereço string e fecha o arquivo."
   ]
  },
  {
   "cell_type": "code",
   "execution_count": 2,
   "id": "aa997257",
   "metadata": {},
   "outputs": [
    {
     "data": {
      "text/plain": [
       "<function TextIOWrapper.close()>"
      ]
     },
     "execution_count": 2,
     "metadata": {},
     "output_type": "execute_result"
    }
   ],
   "source": [
    "    arquivo = open(\"PC_Endereco_dados.txt\")\n",
    "    token = arquivo.read()\n",
    "    arquivo.close"
   ]
  },
  {
   "cell_type": "code",
   "execution_count": 3,
   "id": "72fb1cb0",
   "metadata": {
    "scrolled": true
   },
   "outputs": [
    {
     "name": "stdout",
     "output_type": "stream",
     "text": [
      "C:\\Users\\Samsung\\Projects_PG_Dinamica\\part-00000-4197b597-b26e-4eb9-9b28-b79fad5c4f8e.c000.csv\n"
     ]
    }
   ],
   "source": [
    "print(token)"
   ]
  },
  {
   "cell_type": "code",
   "execution_count": 4,
   "id": "5397f4d8",
   "metadata": {
    "scrolled": true
   },
   "outputs": [
    {
     "data": {
      "text/plain": [
       "str"
      ]
     },
     "execution_count": 4,
     "metadata": {},
     "output_type": "execute_result"
    }
   ],
   "source": [
    "type(token)"
   ]
  },
  {
   "cell_type": "code",
   "execution_count": 5,
   "id": "888ed5d4",
   "metadata": {},
   "outputs": [],
   "source": [
    "dados_covid_mg = pd.read_csv(token, sep=\";\", encoding='ISO-8859-1')"
   ]
  },
  {
   "cell_type": "code",
   "execution_count": 6,
   "id": "df6a57a4",
   "metadata": {
    "scrolled": true
   },
   "outputs": [
    {
     "data": {
      "text/html": [
       "<div>\n",
       "<style scoped>\n",
       "    .dataframe tbody tr th:only-of-type {\n",
       "        vertical-align: middle;\n",
       "    }\n",
       "\n",
       "    .dataframe tbody tr th {\n",
       "        vertical-align: top;\n",
       "    }\n",
       "\n",
       "    .dataframe thead th {\n",
       "        text-align: right;\n",
       "    }\n",
       "</style>\n",
       "<table border=\"1\" class=\"dataframe\">\n",
       "  <thead>\n",
       "    <tr style=\"text-align: right;\">\n",
       "      <th></th>\n",
       "      <th>document_id</th>\n",
       "      <th>paciente_id</th>\n",
       "      <th>paciente_idade</th>\n",
       "      <th>paciente_datanascimento</th>\n",
       "      <th>paciente_enumsexobiologico</th>\n",
       "      <th>paciente_racacor_codigo</th>\n",
       "      <th>paciente_racacor_valor</th>\n",
       "      <th>paciente_endereco_coibgemunicipio</th>\n",
       "      <th>paciente_endereco_copais</th>\n",
       "      <th>paciente_endereco_nmmunicipio</th>\n",
       "      <th>...</th>\n",
       "      <th>vacina_lote</th>\n",
       "      <th>vacina_fabricante_nome</th>\n",
       "      <th>vacina_fabricante_referencia</th>\n",
       "      <th>vacina_dataaplicacao</th>\n",
       "      <th>vacina_descricao_dose</th>\n",
       "      <th>vacina_codigo</th>\n",
       "      <th>vacina_nome</th>\n",
       "      <th>sistema_origem</th>\n",
       "      <th>data_importacao_rnds</th>\n",
       "      <th>id_sistema_origem</th>\n",
       "    </tr>\n",
       "  </thead>\n",
       "  <tbody>\n",
       "    <tr>\n",
       "      <th>0</th>\n",
       "      <td>801396e3-822b-4bd8-b779-57b639743dcf-i0b0</td>\n",
       "      <td>6440137150fa1d5df09a8660da461bb99309d636bd6fd0...</td>\n",
       "      <td>26.0</td>\n",
       "      <td>1995-02-23</td>\n",
       "      <td>M</td>\n",
       "      <td>2.0</td>\n",
       "      <td>PRETA</td>\n",
       "      <td>315460.0</td>\n",
       "      <td>10.0</td>\n",
       "      <td>RIBEIRAO DAS NEVES</td>\n",
       "      <td>...</td>\n",
       "      <td>215VCD154Z</td>\n",
       "      <td>FUNDACAO OSWALDO CRUZ</td>\n",
       "      <td>Organization/33781055000135</td>\n",
       "      <td>2021-07-19</td>\n",
       "      <td>2ÂªÂ Dose</td>\n",
       "      <td>85</td>\n",
       "      <td>Vacina Covid-19 - Covishield</td>\n",
       "      <td>Novo PNI</td>\n",
       "      <td>2021-07-31T03:23:00.000Z</td>\n",
       "      <td>16341</td>\n",
       "    </tr>\n",
       "    <tr>\n",
       "      <th>1</th>\n",
       "      <td>6e1dbf4e-57fd-4f14-94c7-123abd640316-i0b0</td>\n",
       "      <td>34924ed247070a49027bf5bfefbf3edc0e30e662f88521...</td>\n",
       "      <td>31.0</td>\n",
       "      <td>1990-05-10</td>\n",
       "      <td>M</td>\n",
       "      <td>4.0</td>\n",
       "      <td>AMARELA</td>\n",
       "      <td>354990.0</td>\n",
       "      <td>10.0</td>\n",
       "      <td>SAO JOSE DOS CAMPOS</td>\n",
       "      <td>...</td>\n",
       "      <td>210323</td>\n",
       "      <td>FUNDACAO BUTANTAN</td>\n",
       "      <td>Organization/61189445000156</td>\n",
       "      <td>2021-07-28</td>\n",
       "      <td>1ÂªÂ Dose</td>\n",
       "      <td>86</td>\n",
       "      <td>Covid-19-Coronavac-Sinovac/Butantan</td>\n",
       "      <td>Novo PNI</td>\n",
       "      <td>2021-07-28T18:50:27.000Z</td>\n",
       "      <td>16341</td>\n",
       "    </tr>\n",
       "    <tr>\n",
       "      <th>2</th>\n",
       "      <td>b505fe61-a9a6-4a41-aeaa-5f9226745102-i0b0</td>\n",
       "      <td>f0581b9cbef7b0dcee539212a1495ac67b9470d36629f8...</td>\n",
       "      <td>63.0</td>\n",
       "      <td>1958-05-09</td>\n",
       "      <td>F</td>\n",
       "      <td>4.0</td>\n",
       "      <td>AMARELA</td>\n",
       "      <td>310620.0</td>\n",
       "      <td>10.0</td>\n",
       "      <td>BELO HORIZONTE</td>\n",
       "      <td>...</td>\n",
       "      <td>215VCD154Z</td>\n",
       "      <td>FUNDACAO OSWALDO CRUZ</td>\n",
       "      <td>Organization/33781055000135</td>\n",
       "      <td>2021-07-19</td>\n",
       "      <td>2ÂªÂ Dose</td>\n",
       "      <td>85</td>\n",
       "      <td>Vacina Covid-19 - Covishield</td>\n",
       "      <td>Novo PNI</td>\n",
       "      <td>2021-07-31T03:18:38.000Z</td>\n",
       "      <td>16341</td>\n",
       "    </tr>\n",
       "    <tr>\n",
       "      <th>3</th>\n",
       "      <td>f55312b5-653e-4947-ad8f-7a1f9dab09a6-i0b0</td>\n",
       "      <td>ec920a0c69aedb865a329717717542f1afcf42f8c9d818...</td>\n",
       "      <td>50.0</td>\n",
       "      <td>1970-10-28</td>\n",
       "      <td>F</td>\n",
       "      <td>1.0</td>\n",
       "      <td>BRANCA</td>\n",
       "      <td>310620.0</td>\n",
       "      <td>10.0</td>\n",
       "      <td>BELO HORIZONTE</td>\n",
       "      <td>...</td>\n",
       "      <td>210217</td>\n",
       "      <td>FUNDACAO BUTANTAN</td>\n",
       "      <td>Organization/61189445000156</td>\n",
       "      <td>2021-05-27</td>\n",
       "      <td>1ÂªÂ Dose</td>\n",
       "      <td>86</td>\n",
       "      <td>Covid-19-Coronavac-Sinovac/Butantan</td>\n",
       "      <td>Novo PNI</td>\n",
       "      <td>2021-06-03T13:54:11.000Z</td>\n",
       "      <td>16341</td>\n",
       "    </tr>\n",
       "    <tr>\n",
       "      <th>4</th>\n",
       "      <td>7f3610ac-d5f4-456e-af09-caf7e5cf1d09-i0b0</td>\n",
       "      <td>ea91164d1560a508a25a14c9f064ef0318cd52edb32f2b...</td>\n",
       "      <td>83.0</td>\n",
       "      <td>1938-02-03</td>\n",
       "      <td>F</td>\n",
       "      <td>3.0</td>\n",
       "      <td>PARDA</td>\n",
       "      <td>315460.0</td>\n",
       "      <td>10.0</td>\n",
       "      <td>RIBEIRAO DAS NEVES</td>\n",
       "      <td>...</td>\n",
       "      <td>215VCD154Z</td>\n",
       "      <td>FUNDACAO OSWALDO CRUZ</td>\n",
       "      <td>Organization/33781055000135</td>\n",
       "      <td>2021-07-19</td>\n",
       "      <td>2ÂªÂ Dose</td>\n",
       "      <td>85</td>\n",
       "      <td>Vacina Covid-19 - Covishield</td>\n",
       "      <td>Novo PNI</td>\n",
       "      <td>2021-07-31T03:24:03.000Z</td>\n",
       "      <td>16341</td>\n",
       "    </tr>\n",
       "  </tbody>\n",
       "</table>\n",
       "<p>5 rows × 34 columns</p>\n",
       "</div>"
      ],
      "text/plain": [
       "                                 document_id  \\\n",
       "0  801396e3-822b-4bd8-b779-57b639743dcf-i0b0   \n",
       "1  6e1dbf4e-57fd-4f14-94c7-123abd640316-i0b0   \n",
       "2  b505fe61-a9a6-4a41-aeaa-5f9226745102-i0b0   \n",
       "3  f55312b5-653e-4947-ad8f-7a1f9dab09a6-i0b0   \n",
       "4  7f3610ac-d5f4-456e-af09-caf7e5cf1d09-i0b0   \n",
       "\n",
       "                                         paciente_id  paciente_idade  \\\n",
       "0  6440137150fa1d5df09a8660da461bb99309d636bd6fd0...            26.0   \n",
       "1  34924ed247070a49027bf5bfefbf3edc0e30e662f88521...            31.0   \n",
       "2  f0581b9cbef7b0dcee539212a1495ac67b9470d36629f8...            63.0   \n",
       "3  ec920a0c69aedb865a329717717542f1afcf42f8c9d818...            50.0   \n",
       "4  ea91164d1560a508a25a14c9f064ef0318cd52edb32f2b...            83.0   \n",
       "\n",
       "  paciente_datanascimento paciente_enumsexobiologico  paciente_racacor_codigo  \\\n",
       "0              1995-02-23                          M                      2.0   \n",
       "1              1990-05-10                          M                      4.0   \n",
       "2              1958-05-09                          F                      4.0   \n",
       "3              1970-10-28                          F                      1.0   \n",
       "4              1938-02-03                          F                      3.0   \n",
       "\n",
       "  paciente_racacor_valor  paciente_endereco_coibgemunicipio  \\\n",
       "0                  PRETA                           315460.0   \n",
       "1                AMARELA                           354990.0   \n",
       "2                AMARELA                           310620.0   \n",
       "3                 BRANCA                           310620.0   \n",
       "4                  PARDA                           315460.0   \n",
       "\n",
       "   paciente_endereco_copais paciente_endereco_nmmunicipio  ... vacina_lote  \\\n",
       "0                      10.0            RIBEIRAO DAS NEVES  ...  215VCD154Z   \n",
       "1                      10.0           SAO JOSE DOS CAMPOS  ...      210323   \n",
       "2                      10.0                BELO HORIZONTE  ...  215VCD154Z   \n",
       "3                      10.0                BELO HORIZONTE  ...      210217   \n",
       "4                      10.0            RIBEIRAO DAS NEVES  ...  215VCD154Z   \n",
       "\n",
       "  vacina_fabricante_nome  vacina_fabricante_referencia vacina_dataaplicacao  \\\n",
       "0  FUNDACAO OSWALDO CRUZ   Organization/33781055000135           2021-07-19   \n",
       "1      FUNDACAO BUTANTAN   Organization/61189445000156           2021-07-28   \n",
       "2  FUNDACAO OSWALDO CRUZ   Organization/33781055000135           2021-07-19   \n",
       "3      FUNDACAO BUTANTAN   Organization/61189445000156           2021-05-27   \n",
       "4  FUNDACAO OSWALDO CRUZ   Organization/33781055000135           2021-07-19   \n",
       "\n",
       "   vacina_descricao_dose vacina_codigo                          vacina_nome  \\\n",
       "0              2ÂªÂ Dose            85         Vacina Covid-19 - Covishield   \n",
       "1              1ÂªÂ Dose            86  Covid-19-Coronavac-Sinovac/Butantan   \n",
       "2              2ÂªÂ Dose            85         Vacina Covid-19 - Covishield   \n",
       "3              1ÂªÂ Dose            86  Covid-19-Coronavac-Sinovac/Butantan   \n",
       "4              2ÂªÂ Dose            85         Vacina Covid-19 - Covishield   \n",
       "\n",
       "   sistema_origem      data_importacao_rnds id_sistema_origem  \n",
       "0        Novo PNI  2021-07-31T03:23:00.000Z             16341  \n",
       "1        Novo PNI  2021-07-28T18:50:27.000Z             16341  \n",
       "2        Novo PNI  2021-07-31T03:18:38.000Z             16341  \n",
       "3        Novo PNI  2021-06-03T13:54:11.000Z             16341  \n",
       "4        Novo PNI  2021-07-31T03:24:03.000Z             16341  \n",
       "\n",
       "[5 rows x 34 columns]"
      ]
     },
     "execution_count": 6,
     "metadata": {},
     "output_type": "execute_result"
    }
   ],
   "source": [
    "dados_covid_mg.head()"
   ]
  },
  {
   "cell_type": "code",
   "execution_count": 7,
   "id": "b32c9f16",
   "metadata": {},
   "outputs": [
    {
     "name": "stdout",
     "output_type": "stream",
     "text": [
      "<class 'pandas.core.frame.DataFrame'>\n",
      "RangeIndex: 13918659 entries, 0 to 13918658\n",
      "Data columns (total 34 columns):\n",
      " #   Column                                    Dtype  \n",
      "---  ------                                    -----  \n",
      " 0   document_id                               object \n",
      " 1   paciente_id                               object \n",
      " 2   paciente_idade                            float64\n",
      " 3   paciente_datanascimento                   object \n",
      " 4   paciente_enumsexobiologico                object \n",
      " 5   paciente_racacor_codigo                   float64\n",
      " 6   paciente_racacor_valor                    object \n",
      " 7   paciente_endereco_coibgemunicipio         float64\n",
      " 8   paciente_endereco_copais                  float64\n",
      " 9   paciente_endereco_nmmunicipio             object \n",
      " 10  paciente_endereco_nmpais                  object \n",
      " 11  paciente_endereco_uf                      object \n",
      " 12  paciente_endereco_cep                     float64\n",
      " 13  paciente_nacionalidade_enumnacionalidade  object \n",
      " 14  estabelecimento_valor                     int64  \n",
      " 15  estabelecimento_razaosocial               object \n",
      " 16  estalecimento_nofantasia                  object \n",
      " 17  estabelecimento_municipio_codigo          int64  \n",
      " 18  estabelecimento_municipio_nome            object \n",
      " 19  estabelecimento_uf                        object \n",
      " 20  vacina_grupoatendimento_codigo            int64  \n",
      " 21  vacina_grupoatendimento_nome              object \n",
      " 22  vacina_categoria_codigo                   float64\n",
      " 23  vacina_categoria_nome                     object \n",
      " 24  vacina_lote                               object \n",
      " 25  vacina_fabricante_nome                    object \n",
      " 26  vacina_fabricante_referencia              object \n",
      " 27  vacina_dataaplicacao                      object \n",
      " 28  vacina_descricao_dose                     object \n",
      " 29  vacina_codigo                             int64  \n",
      " 30  vacina_nome                               object \n",
      " 31  sistema_origem                            object \n",
      " 32  data_importacao_rnds                      object \n",
      " 33  id_sistema_origem                         int64  \n",
      "dtypes: float64(6), int64(5), object(23)\n",
      "memory usage: 3.5+ GB\n"
     ]
    }
   ],
   "source": [
    "dados_covid_mg.info()"
   ]
  },
  {
   "cell_type": "code",
   "execution_count": 8,
   "id": "f47783d7",
   "metadata": {},
   "outputs": [
    {
     "data": {
      "text/plain": [
       "BRANCA            0.386182\n",
       "PARDA             0.205999\n",
       "SEM INFORMACAO    0.193761\n",
       "AMARELA           0.144192\n",
       "PRETA             0.068439\n",
       "INDIGENA          0.001427\n",
       "Name: paciente_racacor_valor, dtype: float64"
      ]
     },
     "execution_count": 8,
     "metadata": {},
     "output_type": "execute_result"
    }
   ],
   "source": [
    "dados_covid_mg.paciente_racacor_valor.value_counts(normalize=True)"
   ]
  },
  {
   "cell_type": "code",
   "execution_count": 9,
   "id": "3090909d",
   "metadata": {},
   "outputs": [
    {
     "data": {
      "text/plain": [
       "BRANCA            0.386182\n",
       "PARDA             0.205999\n",
       "SEM INFORMACAO    0.193761\n",
       "AMARELA           0.144192\n",
       "PRETA             0.068439\n",
       "INDIGENA          0.001427\n",
       "Name: paciente_racacor_valor, dtype: float64"
      ]
     },
     "execution_count": 9,
     "metadata": {},
     "output_type": "execute_result"
    }
   ],
   "source": [
    "dados_covid_mg.paciente_racacor_valor.value_counts(normalize=True)"
   ]
  },
  {
   "cell_type": "markdown",
   "id": "d99e4917",
   "metadata": {},
   "source": [
    "Será feita uma cópia dos dados originais, para nova variável de modo que modificaremos essa nova variável e deixaremos os dados originais intactos (é uma boa prática)."
   ]
  },
  {
   "cell_type": "code",
   "execution_count": 10,
   "id": "fa6a8eff",
   "metadata": {},
   "outputs": [],
   "source": [
    "dados_pre = dados_covid_mg.copy()"
   ]
  },
  {
   "cell_type": "markdown",
   "id": "93b50acd",
   "metadata": {},
   "source": [
    "Conversão dos dados de DATA, para o formato DATA e não como String"
   ]
  },
  {
   "cell_type": "code",
   "execution_count": 12,
   "id": "adb6d228",
   "metadata": {},
   "outputs": [
    {
     "data": {
      "text/plain": [
       "0          2021-07-19\n",
       "1          2021-07-28\n",
       "2          2021-07-19\n",
       "3          2021-05-27\n",
       "4          2021-07-19\n",
       "              ...    \n",
       "13918654   2021-03-10\n",
       "13918655   2021-06-16\n",
       "13918656   2021-05-03\n",
       "13918657   2021-03-30\n",
       "13918658   2021-04-20\n",
       "Name: vacina_dataaplicacao, Length: 13918659, dtype: datetime64[ns]"
      ]
     },
     "execution_count": 12,
     "metadata": {},
     "output_type": "execute_result"
    }
   ],
   "source": [
    "pd.to_datetime(dados_pre['vacina_dataaplicacao'])"
   ]
  },
  {
   "cell_type": "code",
   "execution_count": 16,
   "id": "802035f6",
   "metadata": {},
   "outputs": [
    {
     "name": "stdout",
     "output_type": "stream",
     "text": [
      "<class 'pandas.core.frame.DataFrame'>\n",
      "RangeIndex: 13918659 entries, 0 to 13918658\n",
      "Data columns (total 34 columns):\n",
      " #   Column                                    Dtype         \n",
      "---  ------                                    -----         \n",
      " 0   document_id                               object        \n",
      " 1   paciente_id                               object        \n",
      " 2   paciente_idade                            float64       \n",
      " 3   paciente_datanascimento                   datetime64[ns]\n",
      " 4   paciente_enumsexobiologico                object        \n",
      " 5   paciente_racacor_codigo                   float64       \n",
      " 6   paciente_racacor_valor                    object        \n",
      " 7   paciente_endereco_coibgemunicipio         float64       \n",
      " 8   paciente_endereco_copais                  float64       \n",
      " 9   paciente_endereco_nmmunicipio             object        \n",
      " 10  paciente_endereco_nmpais                  object        \n",
      " 11  paciente_endereco_uf                      object        \n",
      " 12  paciente_endereco_cep                     float64       \n",
      " 13  paciente_nacionalidade_enumnacionalidade  object        \n",
      " 14  estabelecimento_valor                     int64         \n",
      " 15  estabelecimento_razaosocial               object        \n",
      " 16  estalecimento_nofantasia                  object        \n",
      " 17  estabelecimento_municipio_codigo          int64         \n",
      " 18  estabelecimento_municipio_nome            object        \n",
      " 19  estabelecimento_uf                        object        \n",
      " 20  vacina_grupoatendimento_codigo            int64         \n",
      " 21  vacina_grupoatendimento_nome              object        \n",
      " 22  vacina_categoria_codigo                   float64       \n",
      " 23  vacina_categoria_nome                     object        \n",
      " 24  vacina_lote                               object        \n",
      " 25  vacina_fabricante_nome                    object        \n",
      " 26  vacina_fabricante_referencia              object        \n",
      " 27  vacina_dataaplicacao                      datetime64[ns]\n",
      " 28  vacina_descricao_dose                     object        \n",
      " 29  vacina_codigo                             int64         \n",
      " 30  vacina_nome                               object        \n",
      " 31  sistema_origem                            object        \n",
      " 32  data_importacao_rnds                      object        \n",
      " 33  id_sistema_origem                         int64         \n",
      "dtypes: datetime64[ns](2), float64(6), int64(5), object(21)\n",
      "memory usage: 3.5+ GB\n"
     ]
    }
   ],
   "source": [
    "dados_pre.info()"
   ]
  },
  {
   "cell_type": "code",
   "execution_count": 15,
   "id": "8be84cb9",
   "metadata": {},
   "outputs": [],
   "source": [
    "dados_pre['paciente_datanascimento'] = pd.to_datetime(dados_pre['paciente_datanascimento'])\n",
    "dados_pre['vacina_dataaplicacao'] = pd.to_datetime(dados_pre['vacina_dataaplicacao'])"
   ]
  }
 ],
 "metadata": {
  "kernelspec": {
   "display_name": "Python 3 (ipykernel)",
   "language": "python",
   "name": "python3"
  },
  "language_info": {
   "codemirror_mode": {
    "name": "ipython",
    "version": 3
   },
   "file_extension": ".py",
   "mimetype": "text/x-python",
   "name": "python",
   "nbconvert_exporter": "python",
   "pygments_lexer": "ipython3",
   "version": "3.9.6"
  }
 },
 "nbformat": 4,
 "nbformat_minor": 5
}
